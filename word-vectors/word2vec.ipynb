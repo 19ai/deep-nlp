{
 "cells": [
  {
   "cell_type": "markdown",
   "metadata": {},
   "source": [
    "# Word2Vec\n",
    "Word2Vec uses NCE loss function, but it is not yet included in PyTorch. So we will just use softmax. "
   ]
  },
  {
   "cell_type": "code",
   "execution_count": 14,
   "metadata": {
    "collapsed": true,
    "deletable": true,
    "editable": true
   },
   "outputs": [],
   "source": [
    "import numpy as np\n",
    "import torch as th\n",
    "import torch.nn as nn\n",
    "import torch.nn.functional as F\n",
    "from torch.autograd import Variable\n",
    "import torch.utils.data as data_utils\n",
    "import matplotlib.pyplot as plt\n",
    "%matplotlib inline"
   ]
  },
  {
   "cell_type": "code",
   "execution_count": 21,
   "metadata": {
    "collapsed": false,
    "deletable": true,
    "editable": true
   },
   "outputs": [],
   "source": [
    "word_pair = [['cat', 'white'],\n",
    "             ['cat', 'animal'],\n",
    "             ['flower', 'white'],\n",
    "             ['flower', 'plant'],\n",
    "             ['cactus', 'green'],\n",
    "             ['cactus', 'plant'],\n",
    "             ['dog', 'black'],\n",
    "             ['dog', 'animal'],\n",
    "             ['elephant', 'gray'],\n",
    "             ['elephant', 'animal'],\n",
    "             ['rose', 'red'],\n",
    "             ['rose', 'plant'],\n",
    "             ['car', 'red'],\n",
    "             ['dish', 'red'],\n",
    "             ['jasmine', 'plant'],\n",
    "             ['jasmine', 'white']]\n",
    "\n",
    "\n",
    "word_list = set(np.array(word_pair).flatten())\n",
    "word_dict = {w: i for i, w in enumerate(word_list)}\n",
    "skip_grams = [[word_dict[word[0]], word_dict[word[1]]] for word in word_pair]"
   ]
  },
  {
   "cell_type": "code",
   "execution_count": 22,
   "metadata": {
    "collapsed": false,
    "deletable": true,
    "editable": true
   },
   "outputs": [],
   "source": [
    "label = th.LongTensor(skip_grams)[:, 0].contiguous()\n",
    "context = th.LongTensor(skip_grams)[:, 1].contiguous()\n",
    "skip_grams_dataset = data_utils.TensorDataset(label, context)\n",
    "train_loader = th.utils.data.DataLoader(skip_grams_dataset, batch_size=8, shuffle=True)\n",
    "test_loader = th.utils.data.DataLoader(skip_grams_dataset, batch_size=1, shuffle=False)"
   ]
  },
  {
   "cell_type": "code",
   "execution_count": 23,
   "metadata": {
    "collapsed": false,
    "deletable": true,
    "editable": true
   },
   "outputs": [],
   "source": [
    "class Word2Vec(nn.Module) :\n",
    "    def __init__(self):\n",
    "        super(Word2Vec, self).__init__()\n",
    "        self.embedding = nn.Embedding(len(word_list), 2)\n",
    "        self.linear = nn.Linear(2, len(word_list), bias=True)\n",
    "        \n",
    "    def forward(self, x):\n",
    "        x = self.embedding(x)\n",
    "        x = self.linear(x)\n",
    "        return F.log_softmax(x)\n",
    "    \n",
    "model = Word2Vec()\n",
    "loss_fn = nn.NLLLoss() \n",
    "optimizer = th.optim.Adam(model.parameters(), lr=0.1)"
   ]
  },
  {
   "cell_type": "code",
   "execution_count": 24,
   "metadata": {
    "collapsed": true,
    "deletable": true,
    "editable": true
   },
   "outputs": [],
   "source": [
    "model.train()\n",
    "for epoch in range(100):\n",
    "    for data, target in train_loader:\n",
    "        data, target = Variable(data), Variable(target) #(입력 생성)\n",
    "        output = model(data) # model 생성\n",
    "        loss = F.nll_loss(output, target) #loss 생성\n",
    "        optimizer.zero_grad() # zeroGrad\n",
    "        loss.backward() # calc backward gradients\n",
    "        optimizer.step() # update parameters"
   ]
  },
  {
   "cell_type": "code",
   "execution_count": 25,
   "metadata": {
    "collapsed": false,
    "deletable": true,
    "editable": true
   },
   "outputs": [
    {
     "name": "stdout",
     "output_type": "stream",
     "text": [
      "Input : true : pred\n",
      "cat : white : animal\n",
      "cat : animal : animal\n",
      "flower : white : plant\n",
      "flower : plant : plant\n",
      "cactus : green : plant\n",
      "cactus : plant : plant\n",
      "dog : black : animal\n",
      "dog : animal : animal\n",
      "elephant : gray : animal\n",
      "elephant : animal : animal\n",
      "rose : red : red\n",
      "rose : plant : red\n",
      "car : red : red\n",
      "dish : red : red\n",
      "jasmine : plant : plant\n",
      "jasmine : white : plant\n"
     ]
    }
   ],
   "source": [
    "model.eval()\n",
    "\n",
    "invDic = { i : w for w, i in word_dict.items()}\n",
    "print('Input : true : pred')\n",
    "\n",
    "for x, y in test_loader :\n",
    "    x, y = Variable(x.squeeze()), y.squeeze()\n",
    "    y_pred = model(x).max(1)[1].data[0][0]\n",
    "    print('{:s} : {:s} : {:s}'.format(invDic[x.data[0]], invDic[y[0]], invDic[y_pred]))"
   ]
  },
  {
   "cell_type": "code",
   "execution_count": 26,
   "metadata": {
    "collapsed": false,
    "deletable": true,
    "editable": true
   },
   "outputs": [
    {
     "data": {
      "image/png": "[encoded data removed]",
      "text/plain": [
       "<matplotlib.figure.Figure at 0x7fa0a9cebda0>"
      ]
     },
     "metadata": {},
     "output_type": "display_data"
    }
   ],
   "source": [
    "for i in label :\n",
    "    x = Variable(th.LongTensor([i]))\n",
    "    fx, fy = model.embedding(x).squeeze().data\n",
    "    plt.scatter(fx, fy)\n",
    "    plt.annotate(invDic[i], xy=(fx, fy), xytext=(5, 2),\n",
    "                 textcoords='offset points', ha='right', va='bottom')"
   ]
  },
  {
   "cell_type": "code",
   "execution_count": null,
   "metadata": {
    "collapsed": true
   },
   "outputs": [],
   "source": []
  },
  {
   "cell_type": "code",
   "execution_count": null,
   "metadata": {
    "collapsed": true
   },
   "outputs": [],
   "source": []
  }
 ],
 "metadata": {
  "kernelspec": {
   "display_name": "Python 3",
   "language": "python",
   "name": "python3"
  },
  "language_info": {
   "codemirror_mode": {
    "name": "ipython",
    "version": 3
   },
   "file_extension": ".py",
   "mimetype": "text/x-python",
   "name": "python",
   "nbconvert_exporter": "python",
   "pygments_lexer": "ipython3",
   "version": "3.5.2+"
  }
 },
 "nbformat": 4,
 "nbformat_minor": 2
}
