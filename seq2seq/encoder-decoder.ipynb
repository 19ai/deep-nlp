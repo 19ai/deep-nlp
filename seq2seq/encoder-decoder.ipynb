{
 "cells": [
  {
   "cell_type": "markdown",
   "metadata": {},
   "source": [
    "# Seq2Seq (Encoder-Decoder) Model\n",
    "this model is the basic encoder decoder model without attention mechanism."
   ]
  },
  {
   "cell_type": "code",
   "execution_count": 1,
   "metadata": {
    "collapsed": false
   },
   "outputs": [],
   "source": [
    "import numpy as np\n",
    "import torch as th\n",
    "import torch.nn as nn\n",
    "import torch.nn.functional as F\n",
    "from torch.autograd import Variable\n",
    "from torch import optim"
   ]
  },
  {
   "cell_type": "code",
   "execution_count": 2,
   "metadata": {
    "collapsed": false
   },
   "outputs": [
    {
     "name": "stdout",
     "output_type": "stream",
     "text": [
      "hello ->  [104, 101, 108, 108, 111]\n",
      "hola  ->  [104, 111, 108, 97]\n"
     ]
    }
   ],
   "source": [
    "vocab_size = 256  # ascii size\n",
    "x_ = list(map(ord, \"hello\"))  # convert to list of ascii codes\n",
    "y_ = list(map(ord, \"hola\"))   # convert to list of ascii codes\n",
    "print(\"hello -> \", x_)\n",
    "print(\"hola  -> \", y_)"
   ]
  },
  {
   "cell_type": "code",
   "execution_count": 3,
   "metadata": {
    "collapsed": false
   },
   "outputs": [],
   "source": [
    "x = Variable(th.LongTensor(x_))\n",
    "y = Variable(th.LongTensor(y_))"
   ]
  },
  {
   "cell_type": "code",
   "execution_count": 4,
   "metadata": {
    "collapsed": false
   },
   "outputs": [
    {
     "name": "stdout",
     "output_type": "stream",
     "text": [
      "Variable containing:\n",
      " 104\n",
      " 101\n",
      " 108\n",
      " 108\n",
      " 111\n",
      "[torch.LongTensor of size 5]\n",
      "\n"
     ]
    }
   ],
   "source": [
    "print(x)"
   ]
  },
  {
   "cell_type": "code",
   "execution_count": 5,
   "metadata": {
    "collapsed": false
   },
   "outputs": [],
   "source": [
    "class Seq2Seq(nn.Module):\n",
    "    def __init__(self, vocab_size, hidden_size):\n",
    "        super(Seq2Seq, self).__init__()\n",
    "        self.n_layers = 1\n",
    "        self.hidden_size = hidden_size\n",
    "        self.embedding = nn.Embedding(vocab_size, hidden_size)\n",
    "        self.encoder = nn.LSTM(hidden_size, hidden_size)\n",
    "        self.decoder = nn.LSTM(hidden_size, hidden_size)\n",
    "        self.project = nn.Linear(hidden_size, vocab_size)\n",
    "\n",
    "    def forward(self, inputs, targets):\n",
    "        # Encoder inputs and states\n",
    "        initial_state = self._init_state()\n",
    "        embedding = self.embedding(inputs).unsqueeze(1)\n",
    "        # embedding = [seq_len, batch_size, embedding_size]\n",
    "        \n",
    "        # Encoder\n",
    "        encoder_output, encoder_state = self.encoder(embedding, initial_state)\n",
    "        # encoder_output = [seq_len, batch_size, hidden_size]\n",
    "        # encoder_state  = [n_layers, seq_len, hidden_size]\n",
    "\n",
    "        # Decoder inputs and states\n",
    "        decoder_state = encoder_state\n",
    "        decoder_input = Variable(th.LongTensor([[0]]))\n",
    "        \n",
    "        # Decoder\n",
    "        outputs = []\n",
    "        for i in range(targets.size()[0]): \n",
    "            decoder_input = self.embedding(decoder_input)\n",
    "            decoder_output, decoder_state = self.decoder(decoder_input, decoder_state)\n",
    "            \n",
    "            # Project to the vocabulary size\n",
    "            projection = self.project(decoder_output.view(1, -1))  # batch x vocab_size\n",
    "            \n",
    "            # Make prediction\n",
    "            prediction = F.softmax(projection)  # batch x vocab_size\n",
    "            outputs.append(prediction)\n",
    "            \n",
    "            # update decoder input\n",
    "            _, top_i = prediction.data.topk(1)  # 1 x 1\n",
    "            decoder_input = Variable(top_i)\n",
    "\n",
    "        outputs = th.stack(outputs).squeeze()\n",
    "        return outputs\n",
    "    \n",
    "    def _init_state(self, batch_size=1):\n",
    "        weight = next(self.parameters()).data\n",
    "        return (\n",
    "            Variable(weight.new(self.n_layers, batch_size, self.hidden_size).zero_()),\n",
    "            Variable(weight.new(self.n_layers, batch_size, self.hidden_size).zero_())\n",
    "        )"
   ]
  },
  {
   "cell_type": "code",
   "execution_count": 6,
   "metadata": {
    "collapsed": false
   },
   "outputs": [
    {
     "name": "stdout",
     "output_type": "stream",
     "text": [
      "Seq2Seq (\n",
      "  (embedding): Embedding(256, 16)\n",
      "  (encoder): LSTM(16, 16)\n",
      "  (decoder): LSTM(16, 16)\n",
      "  (project): Linear (16 -> 256)\n",
      ")\n",
      "Variable containing:\n",
      "1.00000e-03 *\n",
      " 3.4673  3.1261  4.1585  ...   4.6288  3.6917  3.8299\n",
      " 3.4849  2.7723  4.2419  ...   4.2775  4.1550  3.9051\n",
      " 3.7341  3.1222  4.4263  ...   3.9580  4.7413  4.1943\n",
      " 3.5559  3.1149  4.1837  ...   3.7882  4.2197  3.5986\n",
      "[torch.FloatTensor of size 4x256]\n",
      "\n"
     ]
    }
   ],
   "source": [
    "seq2seq = Seq2Seq(vocab_size, 16)\n",
    "print(seq2seq)\n",
    "pred = seq2seq(x, y)\n",
    "print(pred)"
   ]
  },
  {
   "cell_type": "code",
   "execution_count": 7,
   "metadata": {
    "collapsed": false
   },
   "outputs": [],
   "source": [
    "criterion = nn.CrossEntropyLoss()\n",
    "optimizer = optim.Adam(seq2seq.parameters(), lr=1e-3)"
   ]
  },
  {
   "cell_type": "code",
   "execution_count": 8,
   "metadata": {
    "collapsed": false
   },
   "outputs": [
    {
     "name": "stdout",
     "output_type": "stream",
     "text": [
      "0 loss: 5.545517921447754\n",
      "E Q + ô \n",
      "100 loss: 5.405981063842773\n",
      "h h h h \n",
      "200 loss: 5.047115802764893\n",
      "h o a a \n",
      "300 loss: 4.872081279754639\n",
      "h o a a \n",
      "400 loss: 4.728263854980469\n",
      "h o l a \n",
      "500 loss: 4.6287384033203125\n",
      "h o l a \n",
      "600 loss: 4.592064380645752\n",
      "h o l a \n",
      "700 loss: 4.576397895812988\n",
      "h o l a \n",
      "800 loss: 4.5692291259765625\n",
      "h o l a \n",
      "900 loss: 4.564873695373535\n",
      "h o l a \n"
     ]
    }
   ],
   "source": [
    "log = []\n",
    "for i in range(1000):\n",
    "    prediction = seq2seq(x, y)\n",
    "    loss = criterion(prediction, y)\n",
    "    optimizer.zero_grad()\n",
    "    loss.backward()\n",
    "    optimizer.step()\n",
    "    loss_val = loss.data[0]\n",
    "    log.append(loss_val)\n",
    "    if i % 100 == 0:\n",
    "        print(\"%d loss: %s\" % (i, loss_val))\n",
    "        _, top1 = prediction.data.topk(1, 1)\n",
    "        for c in top1.squeeze().numpy().tolist():\n",
    "            print(chr(c), end=\" \")\n",
    "        print()"
   ]
  },
  {
   "cell_type": "code",
   "execution_count": 10,
   "metadata": {
    "collapsed": false
   },
   "outputs": [
    {
     "data": {
      "image/png": "[encoded data removed]",
      "text/plain": [
       "<matplotlib.figure.Figure at 0x7f7de03d64e0>"
      ]
     },
     "metadata": {},
     "output_type": "display_data"
    }
   ],
   "source": [
    "import matplotlib.pyplot as plt\n",
    "plt.plot(log)\n",
    "plt.ylabel('cross entropy loss')\n",
    "plt.show()"
   ]
  }
 ],
 "metadata": {
  "kernelspec": {
   "display_name": "Python 3",
   "language": "python",
   "name": "python3"
  },
  "language_info": {
   "codemirror_mode": {
    "name": "ipython",
    "version": 3
   },
   "file_extension": ".py",
   "mimetype": "text/x-python",
   "name": "python",
   "nbconvert_exporter": "python",
   "pygments_lexer": "ipython3",
   "version": "3.5.2+"
  }
 },
 "nbformat": 4,
 "nbformat_minor": 2
}
