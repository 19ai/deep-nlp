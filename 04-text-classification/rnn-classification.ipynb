{
 "cells": [
  {
   "cell_type": "code",
   "execution_count": 1,
   "metadata": {
    "collapsed": true
   },
   "outputs": [],
   "source": [
    "import torch.nn as nn\n",
    "from torch.autograd import Variable\n",
    "import torch.nn.functional as F"
   ]
  },
  {
   "cell_type": "code",
   "execution_count": 2,
   "metadata": {
    "collapsed": true
   },
   "outputs": [],
   "source": [
    "class BasicLSTM(nn.Module):\n",
    "    def __init__(self, i_size, o_size, h_size, emb_size,\n",
    "                 n_layers=1, dropout_p=0.5, use_cuda=False):\n",
    "        super(BasicLSTM, self).__init__()\n",
    "        print(\"Building Basic LSTM model...\")\n",
    "        self.n_layers = n_layers\n",
    "        self.h_size = h_size\n",
    "        self.use_cuda = use_cuda\n",
    "\n",
    "        self.embedding = nn.Embedding(o_size, emb_size)\n",
    "        self.dropout = nn.Dropout(dropout_p)\n",
    "        self.lstm = nn.LSTM(emb_size, h_size, num_layers=n_layers)\n",
    "        self.out = nn.Linear(h_size, o_size)\n",
    "\n",
    "    def forward(self, inputs, targets=None, state=None):\n",
    "        state = self._init_state(b_size=inputs.size()[1])\n",
    "\n",
    "        # inputs: [i, b]\n",
    "        embedded = self.embedding(inputs)  # [i, b, e]\n",
    "        out, _ = self.lstm(embedded, state)  # [i, b, h]\n",
    "        decoded = self.out(out[-1])  # [b, h] -> [b, o]\n",
    "        logits = F.softmax(decoded)\n",
    "        return logits\n",
    "\n",
    "    def _init_state(self, b_size=1):\n",
    "        weight = next(self.parameters()).data\n",
    "        return (\n",
    "            Variable(weight.new(self.n_layers, b_size, self.h_size).zero_()),\n",
    "            Variable(weight.new(self.n_layers, b_size, self.h_size).zero_())\n",
    "        )"
   ]
  },
  {
   "cell_type": "code",
   "execution_count": null,
   "metadata": {
    "collapsed": true
   },
   "outputs": [],
   "source": []
  }
 ],
 "metadata": {
  "kernelspec": {
   "display_name": "Python 3",
   "language": "python",
   "name": "python3"
  },
  "language_info": {
   "codemirror_mode": {
    "name": "ipython",
    "version": 3
   },
   "file_extension": ".py",
   "mimetype": "text/x-python",
   "name": "python",
   "nbconvert_exporter": "python",
   "pygments_lexer": "ipython3",
   "version": "3.5.2+"
  }
 },
 "nbformat": 4,
 "nbformat_minor": 2
}
