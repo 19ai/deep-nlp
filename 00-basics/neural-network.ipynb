{
 "cells": [
  {
   "cell_type": "markdown",
   "metadata": {
    "deletable": true,
    "editable": true
   },
   "source": [
    "# Logistic Regression in Pytorch\n",
    "\n",
    "Here we are going to implement basic logistic regression in PyTorch.\n",
    "First, lets import the library."
   ]
  },
  {
   "cell_type": "code",
   "execution_count": 1,
   "metadata": {
    "collapsed": true,
    "deletable": true,
    "editable": true
   },
   "outputs": [],
   "source": [
    "import torch as th\n",
    "from torch.autograd import Variable"
   ]
  },
  {
   "cell_type": "code",
   "execution_count": 2,
   "metadata": {
    "collapsed": false,
    "deletable": true,
    "editable": true
   },
   "outputs": [],
   "source": [
    "x = Variable(th.Tensor([[1, 2], [2, 3], [3, 1], [4, 3], [5, 3], [6, 2]]))\n",
    "y = Variable(th.LongTensor([0,0,0,1,1,1]))"
   ]
  },
  {
   "cell_type": "markdown",
   "metadata": {
    "deletable": true,
    "editable": true
   },
   "source": [
    "## Creating Models\n",
    "PyTorch is very flexible that there are many ways you can create models in PyTorch. You can implement all models and optimizers by hand without `nn` module. But here, we are going to use torch's `nn` module, since we will frequently use this structure in more advanced models."
   ]
  },
  {
   "cell_type": "code",
   "execution_count": 3,
   "metadata": {
    "collapsed": true,
    "deletable": true,
    "editable": true
   },
   "outputs": [],
   "source": [
    "import torch.nn as nn\n",
    "import torch.nn.functional as F"
   ]
  },
  {
   "cell_type": "code",
   "execution_count": 4,
   "metadata": {
    "collapsed": false,
    "deletable": true,
    "editable": true
   },
   "outputs": [],
   "source": [
    "class NeuralNet(nn.Module):\n",
    "    def __init__(self):\n",
    "        super(NeuralNet, self).__init__()\n",
    "        self.linear1 = nn.Linear(2, 4)\n",
    "        self.linear2 = nn.Linear(4, 2)\n",
    "    def forward(self, x):\n",
    "        out = self.linear1(x)\n",
    "        out = F.relu(out)\n",
    "        out = self.linear2(out)\n",
    "        return F.softmax(out)"
   ]
  },
  {
   "cell_type": "markdown",
   "metadata": {
    "deletable": true,
    "editable": true
   },
   "source": [
    "### Model Summary\n",
    "You can print out the model summary like so:"
   ]
  },
  {
   "cell_type": "code",
   "execution_count": 5,
   "metadata": {
    "collapsed": false,
    "deletable": true,
    "editable": true
   },
   "outputs": [
    {
     "name": "stdout",
     "output_type": "stream",
     "text": [
      "NeuralNet (\n",
      "  (linear1): Linear (2 -> 4)\n",
      "  (linear2): Linear (4 -> 2)\n",
      ")\n"
     ]
    }
   ],
   "source": [
    "net = NeuralNet()\n",
    "print(net)"
   ]
  },
  {
   "cell_type": "markdown",
   "metadata": {
    "deletable": true,
    "editable": true
   },
   "source": [
    "You can also look into the parameters with `parameters()` function"
   ]
  },
  {
   "cell_type": "code",
   "execution_count": 6,
   "metadata": {
    "collapsed": false,
    "deletable": true,
    "editable": true
   },
   "outputs": [
    {
     "name": "stdout",
     "output_type": "stream",
     "text": [
      "[Parameter containing:\n",
      "-0.2684 -0.6063\n",
      " 0.0751 -0.0033\n",
      "-0.1952  0.5986\n",
      " 0.4601 -0.2642\n",
      "[torch.FloatTensor of size 4x2]\n",
      ", Parameter containing:\n",
      "-0.1345\n",
      "-0.4974\n",
      "-0.5211\n",
      " 0.4426\n",
      "[torch.FloatTensor of size 4]\n",
      ", Parameter containing:\n",
      " 0.3664  0.3463  0.0022  0.4860\n",
      " 0.4875  0.3903 -0.2104  0.4859\n",
      "[torch.FloatTensor of size 2x4]\n",
      ", Parameter containing:\n",
      "-0.3068\n",
      " 0.2393\n",
      "[torch.FloatTensor of size 2]\n",
      "]\n"
     ]
    }
   ],
   "source": [
    "print(list(net.parameters()))"
   ]
  },
  {
   "cell_type": "markdown",
   "metadata": {
    "deletable": true,
    "editable": true
   },
   "source": [
    "The first parameter is the weight, and the second parameter is the bias."
   ]
  },
  {
   "cell_type": "markdown",
   "metadata": {
    "deletable": true,
    "editable": true
   },
   "source": [
    "## Loss Funciton and Optimizer\n",
    "You can also manually code the loss and optimizer functions. But we'll use the functions provided by PyTorch."
   ]
  },
  {
   "cell_type": "code",
   "execution_count": 7,
   "metadata": {
    "collapsed": true,
    "deletable": true,
    "editable": true
   },
   "outputs": [],
   "source": [
    "import torch.optim as optim"
   ]
  },
  {
   "cell_type": "code",
   "execution_count": 8,
   "metadata": {
    "collapsed": false,
    "deletable": true,
    "editable": true
   },
   "outputs": [],
   "source": [
    "criterion = nn.CrossEntropyLoss()\n",
    "optimizer = optim.SGD(net.parameters(), lr=1e-2)"
   ]
  },
  {
   "cell_type": "markdown",
   "metadata": {
    "deletable": true,
    "editable": true
   },
   "source": [
    "## Training"
   ]
  },
  {
   "cell_type": "code",
   "execution_count": 9,
   "metadata": {
    "collapsed": false,
    "deletable": true,
    "editable": true
   },
   "outputs": [
    {
     "name": "stdout",
     "output_type": "stream",
     "text": [
      "0 loss: Variable containing:\n",
      " 0.6950\n",
      "[torch.FloatTensor of size 1]\n",
      "\n",
      "sample:  Variable containing:\n",
      " 0.3908  0.6092\n",
      " 0.4114  0.5886\n",
      " 0.3668  0.6332\n",
      " 0.3915  0.6085\n",
      " 0.3816  0.6184\n",
      " 0.3668  0.6332\n",
      "[torch.FloatTensor of size 6x2]\n",
      "\n",
      "2000 loss: Variable containing:\n",
      " 0.4737\n",
      "[torch.FloatTensor of size 1]\n",
      "\n",
      "sample:  Variable containing:\n",
      " 0.9369  0.0631\n",
      " 0.9411  0.0589\n",
      " 0.2103  0.7897\n",
      " 0.1841  0.8159\n",
      " 0.0915  0.9085\n",
      " 0.0316  0.9684\n",
      "[torch.FloatTensor of size 6x2]\n",
      "\n",
      "4000 loss: Variable containing:\n",
      " 0.4371\n",
      "[torch.FloatTensor of size 1]\n",
      "\n",
      "sample:  Variable containing:\n",
      " 0.9821  0.0179\n",
      " 0.9797  0.0203\n",
      " 0.3470  0.6530\n",
      " 0.1685  0.8315\n",
      " 0.0862  0.9138\n",
      " 0.0462  0.9538\n",
      "[torch.FloatTensor of size 6x2]\n",
      "\n",
      "6000 loss: Variable containing:\n",
      " 0.3954\n",
      "[torch.FloatTensor of size 1]\n",
      "\n",
      "sample:  Variable containing:\n",
      " 0.9919  0.0081\n",
      " 0.9853  0.0147\n",
      " 0.5422  0.4578\n",
      " 0.1238  0.8762\n",
      " 0.0628  0.9372\n",
      " 0.0595  0.9405\n",
      "[torch.FloatTensor of size 6x2]\n",
      "\n",
      "8000 loss: Variable containing:\n",
      " 0.3537\n",
      "[torch.FloatTensor of size 1]\n",
      "\n",
      "sample:  Variable containing:\n",
      " 0.9954  0.0046\n",
      " 0.9800  0.0200\n",
      " 0.7665  0.2335\n",
      " 0.0514  0.9486\n",
      " 0.0259  0.9741\n",
      " 0.0666  0.9334\n",
      "[torch.FloatTensor of size 6x2]\n",
      "\n"
     ]
    }
   ],
   "source": [
    "for i in range(10000):\n",
    "    prediction = net(x)\n",
    "    loss = criterion(prediction, y)\n",
    "    optimizer.zero_grad()\n",
    "    loss.backward()\n",
    "    optimizer.step()\n",
    "    if i % 2000 == 0:\n",
    "        print(\"%d loss: %s\" % (i, loss))\n",
    "        print(\"sample: \", prediction)"
   ]
  },
  {
   "cell_type": "code",
   "execution_count": 10,
   "metadata": {
    "collapsed": false,
    "deletable": true,
    "editable": true
   },
   "outputs": [
    {
     "name": "stdout",
     "output_type": "stream",
     "text": [
      "[Parameter containing:\n",
      "-0.2684 -0.6063\n",
      " 0.0751 -0.0033\n",
      "-1.1970  1.5960\n",
      " 0.3444  1.0064\n",
      "[torch.FloatTensor of size 4x2]\n",
      ", Parameter containing:\n",
      "-0.1345\n",
      "-0.4974\n",
      " 0.0003\n",
      "-1.4909\n",
      "[torch.FloatTensor of size 4]\n",
      ", Parameter containing:\n",
      " 0.3664  0.3463  1.1868 -0.7133\n",
      " 0.4875  0.3903 -1.3950  1.6852\n",
      "[torch.FloatTensor of size 2x4]\n",
      ", Parameter containing:\n",
      " 1.5795\n",
      "-1.6470\n",
      "[torch.FloatTensor of size 2]\n",
      "]\n"
     ]
    }
   ],
   "source": [
    "print(list(net.parameters()))"
   ]
  },
  {
   "cell_type": "markdown",
   "metadata": {
    "deletable": true,
    "editable": true
   },
   "source": [
    "Seems about right!"
   ]
  }
 ],
 "metadata": {
  "kernelspec": {
   "display_name": "Python 3",
   "language": "python",
   "name": "python3"
  },
  "language_info": {
   "codemirror_mode": {
    "name": "ipython",
    "version": 3
   },
   "file_extension": ".py",
   "mimetype": "text/x-python",
   "name": "python",
   "nbconvert_exporter": "python",
   "pygments_lexer": "ipython3",
   "version": "3.5.2+"
  }
 },
 "nbformat": 4,
 "nbformat_minor": 2
}
