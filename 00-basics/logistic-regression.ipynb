{
 "cells": [
  {
   "cell_type": "markdown",
   "metadata": {
    "deletable": true,
    "editable": true
   },
   "source": [
    "# Logistic Regression in Pytorch\n",
    "\n",
    "Here we are going to implement basic logistic regression in PyTorch.\n",
    "First, lets import the library."
   ]
  },
  {
   "cell_type": "code",
   "execution_count": 68,
   "metadata": {
    "collapsed": true,
    "deletable": true,
    "editable": true
   },
   "outputs": [],
   "source": [
    "import torch as th\n",
    "from torch.autograd import Variable"
   ]
  },
  {
   "cell_type": "code",
   "execution_count": 69,
   "metadata": {
    "collapsed": false,
    "deletable": true,
    "editable": true
   },
   "outputs": [],
   "source": [
    "x = Variable(th.Tensor([[1, 2], [2, 3], [3, 1], [4, 3], [5, 3], [6, 2]]))\n",
    "y = Variable(th.LongTensor([0,0,0,1,1,1]))"
   ]
  },
  {
   "cell_type": "markdown",
   "metadata": {
    "deletable": true,
    "editable": true
   },
   "source": [
    "## Creating Models\n",
    "PyTorch is very flexible that there are many ways you can create models in PyTorch. You can implement all models and optimizers by hand without `nn` module. But here, we are going to use torch's `nn` module, since we will frequently use this structure in more advanced models."
   ]
  },
  {
   "cell_type": "code",
   "execution_count": 72,
   "metadata": {
    "collapsed": true,
    "deletable": true,
    "editable": true
   },
   "outputs": [],
   "source": [
    "import torch.nn as nn\n",
    "import torch.nn.functional as F"
   ]
  },
  {
   "cell_type": "code",
   "execution_count": 73,
   "metadata": {
    "collapsed": false,
    "deletable": true,
    "editable": true
   },
   "outputs": [],
   "source": [
    "class LogisticRegression(nn.Module):\n",
    "    def __init__(self):\n",
    "        super(LogisticRegression, self).__init__()\n",
    "        self.linear = nn.Linear(2, 2)\n",
    "    def forward(self, x):\n",
    "        out = self.linear(x)\n",
    "        return F.softmax(out)"
   ]
  },
  {
   "cell_type": "markdown",
   "metadata": {
    "deletable": true,
    "editable": true
   },
   "source": [
    "### Model Summary\n",
    "You can print out the model summary like so:"
   ]
  },
  {
   "cell_type": "code",
   "execution_count": 74,
   "metadata": {
    "collapsed": false,
    "deletable": true,
    "editable": true
   },
   "outputs": [
    {
     "name": "stdout",
     "output_type": "stream",
     "text": [
      "LogisticRegression (\n",
      "  (linear): Linear (2 -> 2)\n",
      ")\n"
     ]
    }
   ],
   "source": [
    "logreg = LogisticRegression()\n",
    "print(logreg)"
   ]
  },
  {
   "cell_type": "markdown",
   "metadata": {
    "deletable": true,
    "editable": true
   },
   "source": [
    "You can also look into the parameters with `parameters()` function"
   ]
  },
  {
   "cell_type": "code",
   "execution_count": 75,
   "metadata": {
    "collapsed": false,
    "deletable": true,
    "editable": true
   },
   "outputs": [
    {
     "name": "stdout",
     "output_type": "stream",
     "text": [
      "[Parameter containing:\n",
      "-0.2233 -0.0542\n",
      "-0.6092  0.4897\n",
      "[torch.FloatTensor of size 2x2]\n",
      ", Parameter containing:\n",
      "-0.4997\n",
      " 0.5190\n",
      "[torch.FloatTensor of size 2]\n",
      "]\n"
     ]
    }
   ],
   "source": [
    "print(list(logreg.parameters()))"
   ]
  },
  {
   "cell_type": "markdown",
   "metadata": {
    "deletable": true,
    "editable": true
   },
   "source": [
    "The first parameter is the weight, and the second parameter is the bias."
   ]
  },
  {
   "cell_type": "markdown",
   "metadata": {
    "deletable": true,
    "editable": true
   },
   "source": [
    "## Loss Funciton and Optimizer\n",
    "You can also manually code the loss and optimizer functions. But we'll use the functions provided by PyTorch."
   ]
  },
  {
   "cell_type": "code",
   "execution_count": 76,
   "metadata": {
    "collapsed": true,
    "deletable": true,
    "editable": true
   },
   "outputs": [],
   "source": [
    "import torch.optim as optim"
   ]
  },
  {
   "cell_type": "code",
   "execution_count": 77,
   "metadata": {
    "collapsed": false,
    "deletable": true,
    "editable": true
   },
   "outputs": [],
   "source": [
    "criterion = nn.CrossEntropyLoss()\n",
    "optimizer = optim.SGD(logreg.parameters(), lr=1e-2)"
   ]
  },
  {
   "cell_type": "markdown",
   "metadata": {
    "deletable": true,
    "editable": true
   },
   "source": [
    "## Training"
   ]
  },
  {
   "cell_type": "code",
   "execution_count": 78,
   "metadata": {
    "collapsed": false,
    "deletable": true,
    "editable": true
   },
   "outputs": [
    {
     "name": "stdout",
     "output_type": "stream",
     "text": [
      "0 loss: Variable containing:\n",
      " 0.7967\n",
      "[torch.FloatTensor of size 1]\n",
      "\n",
      "sample:  Variable containing:\n",
      " 0.1518  0.8482\n",
      " 0.1325  0.8675\n",
      " 0.4001  0.5999\n",
      " 0.2484  0.7516\n",
      " 0.3271  0.6729\n",
      " 0.5519  0.4481\n",
      "[torch.FloatTensor of size 6x2]\n",
      "\n",
      "2000 loss: Variable containing:\n",
      " 0.5254\n",
      "[torch.FloatTensor of size 1]\n",
      "\n",
      "sample:  Variable containing:\n",
      " 0.8310  0.1690\n",
      " 0.8060  0.1940\n",
      " 0.1226  0.8774\n",
      " 0.2569  0.7431\n",
      " 0.0907  0.9093\n",
      " 0.0097  0.9903\n",
      "[torch.FloatTensor of size 6x2]\n",
      "\n",
      "4000 loss: Variable containing:\n",
      " 0.5032\n",
      "[torch.FloatTensor of size 1]\n",
      "\n",
      "sample:  Variable containing:\n",
      " 0.9141  0.0859\n",
      " 0.8777  0.1223\n",
      " 0.0881  0.9119\n",
      " 0.1935  0.8065\n",
      " 0.0420  0.9580\n",
      " 0.0022  0.9978\n",
      "[torch.FloatTensor of size 6x2]\n",
      "\n",
      "6000 loss: Variable containing:\n",
      " 0.4939\n",
      "[torch.FloatTensor of size 1]\n",
      "\n",
      "sample:  Variable containing:\n",
      " 0.9411  0.0589\n",
      " 0.9012  0.0988\n",
      " 0.0975  0.9025\n",
      " 0.1834  0.8166\n",
      " 0.0340  0.9660\n",
      " 0.0015  0.9985\n",
      "[torch.FloatTensor of size 6x2]\n",
      "\n",
      "8000 loss: Variable containing:\n",
      " 0.4810\n",
      "[torch.FloatTensor of size 1]\n",
      "\n",
      "sample:  Variable containing:\n",
      " 0.9518  0.0482\n",
      " 0.9060  0.0940\n",
      " 0.1797  0.8203\n",
      " 0.2291  0.7709\n",
      " 0.0496  0.9504\n",
      " 0.0033  0.9967\n",
      "[torch.FloatTensor of size 6x2]\n",
      "\n"
     ]
    }
   ],
   "source": [
    "for i in range(10000):\n",
    "    prediction = logreg(x)\n",
    "    loss = criterion(prediction, y)\n",
    "    optimizer.zero_grad()\n",
    "    loss.backward()\n",
    "    optimizer.step()\n",
    "    if i % 2000 == 0:\n",
    "        print(\"%d loss: %s\" % (i, loss))\n",
    "        print(\"sample: \", prediction)"
   ]
  },
  {
   "cell_type": "code",
   "execution_count": 79,
   "metadata": {
    "collapsed": false,
    "deletable": true,
    "editable": true
   },
   "outputs": [
    {
     "name": "stdout",
     "output_type": "stream",
     "text": [
      "[Parameter containing:\n",
      "-1.1182  0.4003\n",
      " 0.2857  0.0351\n",
      "[torch.FloatTensor of size 2x2]\n",
      ", Parameter containing:\n",
      " 1.8010\n",
      "-1.7818\n",
      "[torch.FloatTensor of size 2]\n",
      "]\n"
     ]
    }
   ],
   "source": [
    "print(list(logreg.parameters()))"
   ]
  },
  {
   "cell_type": "markdown",
   "metadata": {
    "deletable": true,
    "editable": true
   },
   "source": [
    "Seems about right!"
   ]
  }
 ],
 "metadata": {
  "kernelspec": {
   "display_name": "Python 3",
   "language": "python",
   "name": "python3"
  },
  "language_info": {
   "codemirror_mode": {
    "name": "ipython",
    "version": 3
   },
   "file_extension": ".py",
   "mimetype": "text/x-python",
   "name": "python",
   "nbconvert_exporter": "python",
   "pygments_lexer": "ipython3",
   "version": "3.5.2+"
  }
 },
 "nbformat": 4,
 "nbformat_minor": 2
}
